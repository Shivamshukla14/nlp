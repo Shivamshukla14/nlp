{
 "cells": [
  {
   "cell_type": "code",
   "execution_count": 2,
   "id": "73e373d7",
   "metadata": {},
   "outputs": [],
   "source": [
    "import nltk"
   ]
  },
  {
   "cell_type": "code",
   "execution_count": 3,
   "id": "d49ab764",
   "metadata": {},
   "outputs": [],
   "source": [
    "from nltk import word_tokenize, sent_tokenize, PorterStemmer, WordNetLemmatizer, regexp_tokenize\n",
    "from nltk.corpus import stopwords"
   ]
  },
  {
   "cell_type": "code",
   "execution_count": 4,
   "id": "1c0ea140",
   "metadata": {},
   "outputs": [],
   "source": [
    "f = open('data.txt', \"r\")\n",
    "text = f.read()"
   ]
  },
  {
   "cell_type": "code",
   "execution_count": 5,
   "id": "3033c0e1",
   "metadata": {},
   "outputs": [],
   "source": [
    "text = text.lower()"
   ]
  },
  {
   "cell_type": "code",
   "execution_count": 6,
   "id": "938ff5ce",
   "metadata": {},
   "outputs": [],
   "source": [
    "sent_split = sent_tokenize(text)"
   ]
  },
  {
   "cell_type": "code",
   "execution_count": 7,
   "id": "ca1a6d63",
   "metadata": {},
   "outputs": [
    {
     "data": {
      "text/plain": [
       "['alan',\n",
       " 'mathison',\n",
       " 'turing',\n",
       " 'obe',\n",
       " 'frs',\n",
       " '(',\n",
       " '/ëˆtjêšé™réªå‹/',\n",
       " ';',\n",
       " '23',\n",
       " 'june',\n",
       " '1912',\n",
       " 'â€',\n",
       " '“',\n",
       " '7',\n",
       " 'june',\n",
       " '1954',\n",
       " ')',\n",
       " 'was',\n",
       " 'an',\n",
       " 'english',\n",
       " 'mathematician',\n",
       " ',',\n",
       " 'computer',\n",
       " 'scientist',\n",
       " ',',\n",
       " 'logician',\n",
       " ',',\n",
       " 'cryptanalyst',\n",
       " ',',\n",
       " 'philosopher',\n",
       " ',',\n",
       " 'and',\n",
       " 'theoretical',\n",
       " 'biologist',\n",
       " '.',\n",
       " '[',\n",
       " '6',\n",
       " ']',\n",
       " 'turing',\n",
       " 'was',\n",
       " 'highly',\n",
       " 'influential',\n",
       " 'in',\n",
       " 'the',\n",
       " 'development',\n",
       " 'of',\n",
       " 'theoretical',\n",
       " 'computer',\n",
       " 'science',\n",
       " ',',\n",
       " 'providing',\n",
       " 'a',\n",
       " 'formalisation',\n",
       " 'of',\n",
       " 'the',\n",
       " 'concepts',\n",
       " 'of',\n",
       " 'algorithm',\n",
       " 'and',\n",
       " 'computation',\n",
       " 'with',\n",
       " 'the',\n",
       " 'turing',\n",
       " 'machine',\n",
       " ',',\n",
       " 'which',\n",
       " 'can',\n",
       " 'be',\n",
       " 'considered',\n",
       " 'a',\n",
       " 'model',\n",
       " 'of',\n",
       " 'a',\n",
       " 'general-purpose',\n",
       " 'computer',\n",
       " '.',\n",
       " '[',\n",
       " '7',\n",
       " ']',\n",
       " '[',\n",
       " '8',\n",
       " ']',\n",
       " '[',\n",
       " '9',\n",
       " ']',\n",
       " 'he',\n",
       " 'is',\n",
       " 'widely',\n",
       " 'considered',\n",
       " 'to',\n",
       " 'be',\n",
       " 'the',\n",
       " 'father',\n",
       " 'of',\n",
       " 'theoretical',\n",
       " 'computer',\n",
       " 'science',\n",
       " 'and',\n",
       " 'artificial',\n",
       " 'intelligence',\n",
       " '.',\n",
       " '[',\n",
       " '10',\n",
       " ']']"
      ]
     },
     "execution_count": 7,
     "metadata": {},
     "output_type": "execute_result"
    }
   ],
   "source": [
    "word_split = word_tokenize(text)\n",
    "word_split"
   ]
  },
  {
   "cell_type": "code",
   "execution_count": 8,
   "id": "79ca9959",
   "metadata": {},
   "outputs": [
    {
     "data": {
      "text/plain": [
       "['alan',\n",
       " 'mathison',\n",
       " 'turing',\n",
       " 'obe',\n",
       " 'frs',\n",
       " 'ëˆtjêšé',\n",
       " 'réªå',\n",
       " '23',\n",
       " 'june',\n",
       " '1912',\n",
       " 'â',\n",
       " '7',\n",
       " 'june',\n",
       " '1954',\n",
       " 'was',\n",
       " 'an',\n",
       " 'english',\n",
       " 'mathematician',\n",
       " 'computer',\n",
       " 'scientist',\n",
       " 'logician',\n",
       " 'cryptanalyst',\n",
       " 'philosopher',\n",
       " 'and',\n",
       " 'theoretical',\n",
       " 'biologist',\n",
       " '6',\n",
       " 'turing',\n",
       " 'was',\n",
       " 'highly',\n",
       " 'influential',\n",
       " 'in',\n",
       " 'the',\n",
       " 'development',\n",
       " 'of',\n",
       " 'theoretical',\n",
       " 'computer',\n",
       " 'science',\n",
       " 'providing',\n",
       " 'a',\n",
       " 'formalisation',\n",
       " 'of',\n",
       " 'the',\n",
       " 'concepts',\n",
       " 'of',\n",
       " 'algorithm',\n",
       " 'and',\n",
       " 'computation',\n",
       " 'with',\n",
       " 'the',\n",
       " 'turing',\n",
       " 'machine',\n",
       " 'which',\n",
       " 'can',\n",
       " 'be',\n",
       " 'considered',\n",
       " 'a',\n",
       " 'model',\n",
       " 'of',\n",
       " 'a',\n",
       " 'general',\n",
       " 'purpose',\n",
       " 'computer',\n",
       " '7',\n",
       " '8',\n",
       " '9',\n",
       " 'he',\n",
       " 'is',\n",
       " 'widely',\n",
       " 'considered',\n",
       " 'to',\n",
       " 'be',\n",
       " 'the',\n",
       " 'father',\n",
       " 'of',\n",
       " 'theoretical',\n",
       " 'computer',\n",
       " 'science',\n",
       " 'and',\n",
       " 'artificial',\n",
       " 'intelligence',\n",
       " '10']"
      ]
     },
     "execution_count": 8,
     "metadata": {},
     "output_type": "execute_result"
    }
   ],
   "source": [
    "clean_text = regexp_tokenize(text, '\\w+')\n",
    "clean_text"
   ]
  },
  {
   "cell_type": "code",
   "execution_count": 9,
   "id": "a924206a",
   "metadata": {},
   "outputs": [
    {
     "data": {
      "text/plain": [
       "['alan',\n",
       " 'mathison',\n",
       " 'turing',\n",
       " 'obe',\n",
       " 'frs',\n",
       " 'ëˆtjêšé',\n",
       " 'réªå',\n",
       " '23',\n",
       " 'june',\n",
       " '1912',\n",
       " 'â',\n",
       " '7',\n",
       " 'june',\n",
       " '1954',\n",
       " 'english',\n",
       " 'mathematician',\n",
       " 'computer',\n",
       " 'scientist',\n",
       " 'logician',\n",
       " 'cryptanalyst',\n",
       " 'philosopher',\n",
       " 'theoretical',\n",
       " 'biologist',\n",
       " '6',\n",
       " 'turing',\n",
       " 'highly',\n",
       " 'influential',\n",
       " 'development',\n",
       " 'theoretical',\n",
       " 'computer',\n",
       " 'science',\n",
       " 'providing',\n",
       " 'formalisation',\n",
       " 'concepts',\n",
       " 'algorithm',\n",
       " 'computation',\n",
       " 'turing',\n",
       " 'machine',\n",
       " 'considered',\n",
       " 'model',\n",
       " 'general',\n",
       " 'purpose',\n",
       " 'computer',\n",
       " '7',\n",
       " '8',\n",
       " '9',\n",
       " 'widely',\n",
       " 'considered',\n",
       " 'father',\n",
       " 'theoretical',\n",
       " 'computer',\n",
       " 'science',\n",
       " 'artificial',\n",
       " 'intelligence',\n",
       " '10']"
      ]
     },
     "execution_count": 9,
     "metadata": {},
     "output_type": "execute_result"
    }
   ],
   "source": [
    "without_stopwords = [word for word in clean_text if word not in stopwords.words('english')]\n",
    "without_stopwords"
   ]
  },
  {
   "cell_type": "code",
   "execution_count": 10,
   "id": "e5954135",
   "metadata": {},
   "outputs": [
    {
     "name": "stdout",
     "output_type": "stream",
     "text": [
      "probable: probabl\n",
      "probability: probabl\n",
      "probably: probabl\n"
     ]
    }
   ],
   "source": [
    "l1 = ['probable', 'probability', 'probably']\n",
    "ps = PorterStemmer()\n",
    "for word in l1: print(f'{word}: {ps.stem(word)}')"
   ]
  },
  {
   "cell_type": "code",
   "execution_count": 11,
   "id": "77520401",
   "metadata": {},
   "outputs": [
    {
     "name": "stdout",
     "output_type": "stream",
     "text": [
      "program : program\n",
      "programming : programming\n",
      "programer : programer\n",
      "programs : program\n",
      "programmed : programmed\n"
     ]
    }
   ],
   "source": [
    "example_words = [\"program\",\"programming\",\"programer\",\"programs\",\"programmed\"]\n",
    "wnl = WordNetLemmatizer()\n",
    "for w in example_words:\n",
    "        print(f\"{w} : {wnl.lemmatize(w)}\")"
   ]
  },
  {
   "cell_type": "code",
   "execution_count": null,
   "id": "f712c93b",
   "metadata": {},
   "outputs": [],
   "source": []
  }
 ],
 "metadata": {
  "kernelspec": {
   "display_name": "Python 3 (ipykernel)",
   "language": "python",
   "name": "python3"
  },
  "language_info": {
   "codemirror_mode": {
    "name": "ipython",
    "version": 3
   },
   "file_extension": ".py",
   "mimetype": "text/x-python",
   "name": "python",
   "nbconvert_exporter": "python",
   "pygments_lexer": "ipython3",
   "version": "3.9.13"
  }
 },
 "nbformat": 4,
 "nbformat_minor": 5
}
