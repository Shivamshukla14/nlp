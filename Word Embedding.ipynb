{
 "cells": [
  {
   "cell_type": "code",
   "execution_count": null,
   "id": "589aa61d",
   "metadata": {},
   "outputs": [],
   "source": [
    "import gensim.downloader as api"
   ]
  },
  {
   "cell_type": "code",
   "execution_count": null,
   "id": "729873b4",
   "metadata": {},
   "outputs": [],
   "source": [
    "word2vec = api.load(\"word2vec-google-news-300\")"
   ]
  },
  {
   "cell_type": "code",
   "execution_count": null,
   "id": "bc77bc4f",
   "metadata": {},
   "outputs": [],
   "source": [
    "word2vec['cat'].shape"
   ]
  },
  {
   "cell_type": "code",
   "execution_count": null,
   "id": "4f9e7e08",
   "metadata": {},
   "outputs": [],
   "source": [
    "word2vec.similarity('cat', 'kittens')"
   ]
  },
  {
   "cell_type": "code",
   "execution_count": null,
   "id": "b24ee951",
   "metadata": {},
   "outputs": [],
   "source": [
    "word2vec.most_similar('cat')"
   ]
  },
  {
   "cell_type": "code",
   "execution_count": null,
   "id": "56302318",
   "metadata": {},
   "outputs": [],
   "source": [
    "word2vec.doesnt_match(['cat', 'kitten', 'elephant'])"
   ]
  },
  {
   "cell_type": "code",
   "execution_count": null,
   "id": "98dbd0c0",
   "metadata": {},
   "outputs": [],
   "source": [
    "word2vec.doesnt_match(['chair', 'table', 'building'])"
   ]
  },
  {
   "cell_type": "code",
   "execution_count": null,
   "id": "7b51de3c",
   "metadata": {},
   "outputs": [],
   "source": [
    "vec = word2vec['king'] - word2vec['men'] + word2vec['women']\n",
    "word2vec.most_similar([vec])"
   ]
  },
  {
   "cell_type": "code",
   "execution_count": null,
   "id": "904c3f1a",
   "metadata": {},
   "outputs": [],
   "source": [
    "vec2 = word2vec['INR'] - word2vec['INDIA'] + word2vec['ENGLAND']\n",
    "word2vec.most_similar([vec2])"
   ]
  },
  {
   "cell_type": "code",
   "execution_count": null,
   "id": "0400229a",
   "metadata": {},
   "outputs": [],
   "source": [
    "word2vec.most_similar(['man'])"
   ]
  }
 ],
 "metadata": {
  "kernelspec": {
   "display_name": "Python 3 (ipykernel)",
   "language": "python",
   "name": "python3"
  },
  "language_info": {
   "codemirror_mode": {
    "name": "ipython",
    "version": 3
   },
   "file_extension": ".py",
   "mimetype": "text/x-python",
   "name": "python",
   "nbconvert_exporter": "python",
   "pygments_lexer": "ipython3",
   "version": "3.9.13"
  }
 },
 "nbformat": 4,
 "nbformat_minor": 5
}
