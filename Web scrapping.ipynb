{
 "cells": [
  {
   "cell_type": "code",
   "execution_count": 1,
   "id": "65318a5e",
   "metadata": {},
   "outputs": [],
   "source": [
    "from bs4 import BeautifulSoup\n",
    "import pandas as pd\n",
    "import requests"
   ]
  },
  {
   "cell_type": "code",
   "execution_count": 2,
   "id": "447acabe",
   "metadata": {},
   "outputs": [],
   "source": [
    "usr_agent = {'User-Agent': 'Mozilla/5.0'}\n",
    "url = 'https://www.ambitionbox.com/list-of-companies?campaign=desktop_nav'\n",
    "web_page = requests.get(url, headers=usr_agent)"
   ]
  },
  {
   "cell_type": "code",
   "execution_count": 3,
   "id": "400b4b50",
   "metadata": {},
   "outputs": [],
   "source": [
    "soup = BeautifulSoup(web_page.content, 'lxml')\n",
    "list_of_companies = list(map(lambda x: x.text.strip(), soup.find_all('h2', class_='companyCardWrapper__companyName')))"
   ]
  },
  {
   "cell_type": "code",
   "execution_count": 4,
   "id": "053b33af",
   "metadata": {},
   "outputs": [],
   "source": [
    "company_info = list(map(lambda x: x.text.strip().split('|'), soup.find_all('span', class_='companyCardWrapper__interLinking')))\n",
    "df = pd.DataFrame(company_info, columns=['service field', 'size', 'type', 'years', 'location'])"
   ]
  },
  {
   "cell_type": "code",
   "execution_count": 5,
   "id": "a26e95db",
   "metadata": {},
   "outputs": [
    {
     "data": {
      "text/html": [
       "<div>\n",
       "<style scoped>\n",
       "    .dataframe tbody tr th:only-of-type {\n",
       "        vertical-align: middle;\n",
       "    }\n",
       "\n",
       "    .dataframe tbody tr th {\n",
       "        vertical-align: top;\n",
       "    }\n",
       "\n",
       "    .dataframe thead th {\n",
       "        text-align: right;\n",
       "    }\n",
       "</style>\n",
       "<table border=\"1\" class=\"dataframe\">\n",
       "  <thead>\n",
       "    <tr style=\"text-align: right;\">\n",
       "      <th></th>\n",
       "      <th>company_name</th>\n",
       "      <th>service field</th>\n",
       "      <th>size</th>\n",
       "      <th>type</th>\n",
       "      <th>years</th>\n",
       "      <th>location</th>\n",
       "    </tr>\n",
       "  </thead>\n",
       "  <tbody>\n",
       "    <tr>\n",
       "      <th>0</th>\n",
       "      <td>TCS</td>\n",
       "      <td>IT Services &amp; Consulting</td>\n",
       "      <td>1 Lakh+ Employees</td>\n",
       "      <td>Public</td>\n",
       "      <td>55 years old</td>\n",
       "      <td>Mumbai +283 more</td>\n",
       "    </tr>\n",
       "    <tr>\n",
       "      <th>1</th>\n",
       "      <td>Accenture</td>\n",
       "      <td>IT Services &amp; Consulting</td>\n",
       "      <td>1 Lakh+ Employees</td>\n",
       "      <td>Public</td>\n",
       "      <td>34 years old</td>\n",
       "      <td>Dublin +141 more</td>\n",
       "    </tr>\n",
       "    <tr>\n",
       "      <th>2</th>\n",
       "      <td>Cognizant</td>\n",
       "      <td>IT Services &amp; Consulting</td>\n",
       "      <td>1 Lakh+ Employees</td>\n",
       "      <td>Forbes Global 2000</td>\n",
       "      <td>29 years old</td>\n",
       "      <td>Teaneck. New Jersey. +111 more</td>\n",
       "    </tr>\n",
       "    <tr>\n",
       "      <th>3</th>\n",
       "      <td>Wipro</td>\n",
       "      <td>IT Services &amp; Consulting</td>\n",
       "      <td>1 Lakh+ Employees</td>\n",
       "      <td>Public</td>\n",
       "      <td>78 years old</td>\n",
       "      <td>Bangalore/Bengaluru +246 more</td>\n",
       "    </tr>\n",
       "    <tr>\n",
       "      <th>4</th>\n",
       "      <td>ICICI Bank</td>\n",
       "      <td>Banking</td>\n",
       "      <td>1 Lakh+ Employees</td>\n",
       "      <td>Public</td>\n",
       "      <td>29 years old</td>\n",
       "      <td>Mumbai +1189 more</td>\n",
       "    </tr>\n",
       "  </tbody>\n",
       "</table>\n",
       "</div>"
      ],
      "text/plain": [
       "  company_name              service field                 size  \\\n",
       "0          TCS  IT Services & Consulting    1 Lakh+ Employees    \n",
       "1    Accenture  IT Services & Consulting    1 Lakh+ Employees    \n",
       "2    Cognizant  IT Services & Consulting    1 Lakh+ Employees    \n",
       "3        Wipro  IT Services & Consulting    1 Lakh+ Employees    \n",
       "4   ICICI Bank                   Banking    1 Lakh+ Employees    \n",
       "\n",
       "                   type           years                         location  \n",
       "0               Public    55 years old                  Mumbai +283 more  \n",
       "1               Public    34 years old                  Dublin +141 more  \n",
       "2   Forbes Global 2000    29 years old    Teaneck. New Jersey. +111 more  \n",
       "3               Public    78 years old     Bangalore/Bengaluru +246 more  \n",
       "4               Public    29 years old                 Mumbai +1189 more  "
      ]
     },
     "execution_count": 5,
     "metadata": {},
     "output_type": "execute_result"
    }
   ],
   "source": [
    "df['company_name'] = list_of_companies\n",
    "df = df[['company_name', 'service field', 'size', 'type', 'years', 'location']]\n",
    "df.head()"
   ]
  },
  {
   "cell_type": "code",
   "execution_count": 6,
   "id": "7323f6ce",
   "metadata": {},
   "outputs": [],
   "source": [
    "df.to_csv('web_scraped_data.csv', index=False)"
   ]
  },
  {
   "cell_type": "code",
   "execution_count": null,
   "id": "41254934",
   "metadata": {},
   "outputs": [],
   "source": []
  }
 ],
 "metadata": {
  "kernelspec": {
   "display_name": "Python 3 (ipykernel)",
   "language": "python",
   "name": "python3"
  },
  "language_info": {
   "codemirror_mode": {
    "name": "ipython",
    "version": 3
   },
   "file_extension": ".py",
   "mimetype": "text/x-python",
   "name": "python",
   "nbconvert_exporter": "python",
   "pygments_lexer": "ipython3",
   "version": "3.9.13"
  }
 },
 "nbformat": 4,
 "nbformat_minor": 5
}
